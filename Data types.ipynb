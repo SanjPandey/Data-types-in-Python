{
 "cells": [
  {
   "cell_type": "code",
   "execution_count": 1,
   "id": "d21202df",
   "metadata": {},
   "outputs": [],
   "source": [
    "a=('hi', 'hello' ',welcome')"
   ]
  },
  {
   "cell_type": "code",
   "execution_count": 2,
   "id": "772c2b84",
   "metadata": {},
   "outputs": [
    {
     "name": "stdout",
     "output_type": "stream",
     "text": [
      "<class 'tuple'>\n"
     ]
    }
   ],
   "source": [
    "print(type(a))"
   ]
  },
  {
   "cell_type": "code",
   "execution_count": 4,
   "id": "10d8bf55",
   "metadata": {},
   "outputs": [
    {
     "name": "stdout",
     "output_type": "stream",
     "text": [
      "2\n"
     ]
    }
   ],
   "source": [
    "print(len(a))"
   ]
  },
  {
   "cell_type": "code",
   "execution_count": 5,
   "id": "f6bfab9a",
   "metadata": {},
   "outputs": [
    {
     "name": "stdout",
     "output_type": "stream",
     "text": [
      "hello,welcome\n"
     ]
    }
   ],
   "source": [
    "print(min(a))"
   ]
  },
  {
   "cell_type": "code",
   "execution_count": 6,
   "id": "61aa522f",
   "metadata": {},
   "outputs": [
    {
     "name": "stdout",
     "output_type": "stream",
     "text": [
      "hi\n"
     ]
    }
   ],
   "source": [
    "print(max(a))"
   ]
  },
  {
   "cell_type": "code",
   "execution_count": 7,
   "id": "69b89b86",
   "metadata": {},
   "outputs": [
    {
     "name": "stdout",
     "output_type": "stream",
     "text": [
      "['hello,welcome', 'hi']\n"
     ]
    }
   ],
   "source": [
    "print(sorted(a))"
   ]
  },
  {
   "cell_type": "code",
   "execution_count": 8,
   "id": "c5a002a2",
   "metadata": {},
   "outputs": [
    {
     "name": "stdout",
     "output_type": "stream",
     "text": [
      "hi\n"
     ]
    }
   ],
   "source": [
    "print(a[0])"
   ]
  },
  {
   "cell_type": "code",
   "execution_count": 10,
   "id": "f4c51815",
   "metadata": {},
   "outputs": [
    {
     "name": "stdout",
     "output_type": "stream",
     "text": [
      "hi\n",
      "('hello,welcome', 'hi')\n"
     ]
    }
   ],
   "source": [
    "print(a[0])\n",
    "print(a[::-1])"
   ]
  },
  {
   "cell_type": "code",
   "execution_count": 11,
   "id": "25edb2da",
   "metadata": {},
   "outputs": [
    {
     "name": "stdout",
     "output_type": "stream",
     "text": [
      "True\n"
     ]
    }
   ],
   "source": [
    "print(isinstance(a, tuple))"
   ]
  },
  {
   "cell_type": "code",
   "execution_count": 14,
   "id": "d79cff2d",
   "metadata": {},
   "outputs": [],
   "source": [
    "b={1,2,2,2,2,3,3,3,3,3}\n"
   ]
  },
  {
   "cell_type": "code",
   "execution_count": 15,
   "id": "96b8b8b4",
   "metadata": {},
   "outputs": [
    {
     "name": "stdout",
     "output_type": "stream",
     "text": [
      "<class 'set'>\n"
     ]
    }
   ],
   "source": [
    "print(type(b))"
   ]
  },
  {
   "cell_type": "code",
   "execution_count": 17,
   "id": "a9554356",
   "metadata": {},
   "outputs": [
    {
     "name": "stdout",
     "output_type": "stream",
     "text": [
      "True\n"
     ]
    }
   ],
   "source": [
    "print(isinstance(b,set))"
   ]
  },
  {
   "cell_type": "code",
   "execution_count": 18,
   "id": "875f3656",
   "metadata": {},
   "outputs": [
    {
     "name": "stdout",
     "output_type": "stream",
     "text": [
      "3\n"
     ]
    }
   ],
   "source": [
    "print(len(b))"
   ]
  },
  {
   "cell_type": "code",
   "execution_count": 19,
   "id": "a00c441a",
   "metadata": {},
   "outputs": [
    {
     "name": "stdout",
     "output_type": "stream",
     "text": [
      "3\n"
     ]
    }
   ],
   "source": [
    "print(max(b))"
   ]
  },
  {
   "cell_type": "code",
   "execution_count": 20,
   "id": "5b298bbf",
   "metadata": {},
   "outputs": [
    {
     "name": "stdout",
     "output_type": "stream",
     "text": [
      "hello,welcome\n"
     ]
    }
   ],
   "source": [
    "print(min(a))"
   ]
  },
  {
   "cell_type": "code",
   "execution_count": 21,
   "id": "0daddefd",
   "metadata": {},
   "outputs": [
    {
     "name": "stdout",
     "output_type": "stream",
     "text": [
      "[1, 2, 3]\n"
     ]
    }
   ],
   "source": [
    "print(sorted(b))"
   ]
  },
  {
   "cell_type": "code",
   "execution_count": 22,
   "id": "d32efe14",
   "metadata": {},
   "outputs": [],
   "source": [
    "a={1,2,4,5,6}"
   ]
  },
  {
   "cell_type": "code",
   "execution_count": 23,
   "id": "3195d37d",
   "metadata": {},
   "outputs": [],
   "source": [
    "b={2,3,4,5,6,8,}"
   ]
  },
  {
   "cell_type": "code",
   "execution_count": 24,
   "id": "8871a830",
   "metadata": {},
   "outputs": [
    {
     "name": "stdout",
     "output_type": "stream",
     "text": [
      "{1, 2, 3, 4, 5, 6, 8}\n"
     ]
    }
   ],
   "source": [
    "print(a.union(b))"
   ]
  },
  {
   "cell_type": "code",
   "execution_count": 25,
   "id": "3f65365b",
   "metadata": {},
   "outputs": [
    {
     "name": "stdout",
     "output_type": "stream",
     "text": [
      "{2, 4, 5, 6}\n"
     ]
    }
   ],
   "source": [
    "print(a.intersection(b))"
   ]
  },
  {
   "cell_type": "code",
   "execution_count": 26,
   "id": "2b3db1e6",
   "metadata": {},
   "outputs": [
    {
     "name": "stdout",
     "output_type": "stream",
     "text": [
      "{1}\n"
     ]
    }
   ],
   "source": [
    "print(a.difference(b))"
   ]
  },
  {
   "cell_type": "code",
   "execution_count": 27,
   "id": "a422b67a",
   "metadata": {},
   "outputs": [
    {
     "name": "stdout",
     "output_type": "stream",
     "text": [
      "{8, 3}\n"
     ]
    }
   ],
   "source": [
    "print(b.difference(a))"
   ]
  },
  {
   "cell_type": "code",
   "execution_count": 28,
   "id": "dcf4b4d2",
   "metadata": {},
   "outputs": [],
   "source": [
    "a = [\"hi\" , \"hello\" , \"hi\" , \"welcome\" , \"hello\"]\n",
    "#remove duplicates from the list and output should be of type list"
   ]
  },
  {
   "cell_type": "code",
   "execution_count": 31,
   "id": "fa9b327a",
   "metadata": {},
   "outputs": [
    {
     "name": "stdout",
     "output_type": "stream",
     "text": [
      "['welcome', 'hi', 'hello']\n"
     ]
    }
   ],
   "source": [
    "# Remove duplicates and convert to a list\n",
    "unique_list = list(set(a))\n",
    "\n",
    "# Print the result\n",
    "print(unique_list)"
   ]
  },
  {
   "cell_type": "code",
   "execution_count": 32,
   "id": "d2aaf75c",
   "metadata": {},
   "outputs": [],
   "source": [
    "a={\"name\":\"ajay\",\"age\":\"21\",\"location\":\"mumbai\"}"
   ]
  },
  {
   "cell_type": "code",
   "execution_count": 33,
   "id": "694172bc",
   "metadata": {},
   "outputs": [],
   "source": [
    "b=type(a)"
   ]
  },
  {
   "cell_type": "code",
   "execution_count": 35,
   "id": "49b7f46b",
   "metadata": {},
   "outputs": [
    {
     "name": "stdout",
     "output_type": "stream",
     "text": [
      "<class 'dict'>\n"
     ]
    }
   ],
   "source": [
    "print(b) "
   ]
  },
  {
   "cell_type": "code",
   "execution_count": 36,
   "id": "db0cf790",
   "metadata": {},
   "outputs": [
    {
     "name": "stdout",
     "output_type": "stream",
     "text": [
      "False\n"
     ]
    }
   ],
   "source": [
    "print(isinstance(dict,b))"
   ]
  },
  {
   "cell_type": "code",
   "execution_count": 37,
   "id": "b9305635",
   "metadata": {},
   "outputs": [
    {
     "name": "stdout",
     "output_type": "stream",
     "text": [
      "age\n"
     ]
    }
   ],
   "source": [
    "print(min(a))"
   ]
  },
  {
   "cell_type": "code",
   "execution_count": 38,
   "id": "6065726d",
   "metadata": {},
   "outputs": [
    {
     "name": "stdout",
     "output_type": "stream",
     "text": [
      "name\n"
     ]
    }
   ],
   "source": [
    "print(max(a))"
   ]
  },
  {
   "cell_type": "code",
   "execution_count": 39,
   "id": "44072574",
   "metadata": {},
   "outputs": [
    {
     "name": "stdout",
     "output_type": "stream",
     "text": [
      "3\n"
     ]
    }
   ],
   "source": [
    "print(len(a))"
   ]
  },
  {
   "cell_type": "code",
   "execution_count": 40,
   "id": "51ced005",
   "metadata": {},
   "outputs": [
    {
     "name": "stdout",
     "output_type": "stream",
     "text": [
      "['age', 'location', 'name']\n"
     ]
    }
   ],
   "source": [
    "print(sorted(a))"
   ]
  },
  {
   "cell_type": "code",
   "execution_count": 41,
   "id": "20c9774d",
   "metadata": {},
   "outputs": [
    {
     "name": "stdout",
     "output_type": "stream",
     "text": [
      "['d', 'e', 'm', 'o']\n"
     ]
    }
   ],
   "source": [
    "a=\"demo\"\n",
    "print(sorted(a))"
   ]
  },
  {
   "cell_type": "code",
   "execution_count": 42,
   "id": "abd36e5c",
   "metadata": {},
   "outputs": [
    {
     "name": "stdout",
     "output_type": "stream",
     "text": [
      "[1, 2, 3]\n"
     ]
    }
   ],
   "source": [
    "a=(1,2,3)\n",
    "print(sorted(a))"
   ]
  },
  {
   "cell_type": "code",
   "execution_count": 45,
   "id": "bde24e3c",
   "metadata": {},
   "outputs": [
    {
     "name": "stdout",
     "output_type": "stream",
     "text": [
      "dict_keys(['name', 'age', 'location'])\n",
      "dict_values(['ansh', '21', 'mumbai'])\n",
      "dict_items([('name', 'ansh'), ('age', '21'), ('location', 'mumbai')])\n"
     ]
    }
   ],
   "source": [
    "a={\"name\":\"ansh\",\"age\":\"21\",\"location\":\"mumbai\"}\n",
    "print(a.keys())\n",
    "print(a.values())\n",
    "print(a.items())"
   ]
  },
  {
   "cell_type": "code",
   "execution_count": 46,
   "id": "9cee6659",
   "metadata": {},
   "outputs": [
    {
     "name": "stdout",
     "output_type": "stream",
     "text": [
      "ansh\n"
     ]
    }
   ],
   "source": [
    "print(a[\"name\"])"
   ]
  },
  {
   "cell_type": "code",
   "execution_count": 47,
   "id": "f51a0799",
   "metadata": {},
   "outputs": [
    {
     "ename": "KeyError",
     "evalue": "'demo'",
     "output_type": "error",
     "traceback": [
      "\u001b[1;31m---------------------------------------------------------------------------\u001b[0m",
      "\u001b[1;31mKeyError\u001b[0m                                  Traceback (most recent call last)",
      "Cell \u001b[1;32mIn[47], line 1\u001b[0m\n\u001b[1;32m----> 1\u001b[0m \u001b[38;5;28mprint\u001b[39m(a[\u001b[38;5;124m\"\u001b[39m\u001b[38;5;124mdemo\u001b[39m\u001b[38;5;124m\"\u001b[39m])\n",
      "\u001b[1;31mKeyError\u001b[0m: 'demo'"
     ]
    }
   ],
   "source": [
    "print(a[\"demo\"])"
   ]
  },
  {
   "cell_type": "code",
   "execution_count": 48,
   "id": "f3dbe305",
   "metadata": {},
   "outputs": [
    {
     "name": "stdout",
     "output_type": "stream",
     "text": [
      "ansh\n"
     ]
    }
   ],
   "source": [
    "print(a.get(\"name\"))"
   ]
  },
  {
   "cell_type": "code",
   "execution_count": 49,
   "id": "4f72e86f",
   "metadata": {},
   "outputs": [
    {
     "name": "stdout",
     "output_type": "stream",
     "text": [
      "None\n"
     ]
    }
   ],
   "source": [
    "print(a.get(\"demo\"))"
   ]
  },
  {
   "cell_type": "code",
   "execution_count": 50,
   "id": "c7758076",
   "metadata": {},
   "outputs": [
    {
     "name": "stdout",
     "output_type": "stream",
     "text": [
      "ddd\n",
      "ansh\n"
     ]
    }
   ],
   "source": [
    "print(a.get(\"demo\",\"ddd\"))\n",
    "print(a.get(\"name\",\"hjh\"))"
   ]
  },
  {
   "cell_type": "code",
   "execution_count": 51,
   "id": "a2c74f13",
   "metadata": {},
   "outputs": [],
   "source": [
    "# how to add new value in dictonary"
   ]
  },
  {
   "cell_type": "code",
   "execution_count": 52,
   "id": "06658868",
   "metadata": {},
   "outputs": [
    {
     "name": "stdout",
     "output_type": "stream",
     "text": [
      "{'name': 'ansh', 'age': '21', 'location': 'mumbai', 'demo': 'test'}\n"
     ]
    }
   ],
   "source": [
    "a[\"demo\"]=\"test\"\n",
    "print(a)"
   ]
  },
  {
   "cell_type": "code",
   "execution_count": 53,
   "id": "ea0fb9a5",
   "metadata": {},
   "outputs": [
    {
     "name": "stdout",
     "output_type": "stream",
     "text": [
      "{'name': 'sachin', 'age': '21', 'location': 'mumbai', 'demo': 'test'}\n"
     ]
    }
   ],
   "source": [
    "a[\"name\"]=\"sachin\"\n",
    "print(a)"
   ]
  },
  {
   "cell_type": "code",
   "execution_count": 54,
   "id": "3efd0c57",
   "metadata": {},
   "outputs": [],
   "source": [
    "del(a[\"demo\"])"
   ]
  },
  {
   "cell_type": "code",
   "execution_count": 55,
   "id": "7ab18bc1",
   "metadata": {},
   "outputs": [
    {
     "name": "stdout",
     "output_type": "stream",
     "text": [
      "{'name': 'sachin', 'age': '21', 'location': 'mumbai'}\n"
     ]
    }
   ],
   "source": [
    "print(a)"
   ]
  },
  {
   "cell_type": "code",
   "execution_count": 56,
   "id": "5e375d27",
   "metadata": {},
   "outputs": [
    {
     "name": "stdout",
     "output_type": "stream",
     "text": [
      "mumbai\n",
      "{'name': 'sachin', 'age': '21'}\n"
     ]
    }
   ],
   "source": [
    "b=a.pop(\"location\")\n",
    "print(b)\n",
    "print(a)"
   ]
  },
  {
   "cell_type": "code",
   "execution_count": 57,
   "id": "f10cccff",
   "metadata": {},
   "outputs": [
    {
     "name": "stdout",
     "output_type": "stream",
     "text": [
      "('location', 'pune')\n",
      "{'name': 'anu', 'age': '21'}\n"
     ]
    }
   ],
   "source": [
    "a={\"name\":\"anu\",\"age\":\"21\",\"location\":\"pune\"}\n",
    "b=a.popitem()\n",
    "print(b)\n",
    "print(a)"
   ]
  },
  {
   "cell_type": "code",
   "execution_count": 58,
   "id": "82f4246b",
   "metadata": {},
   "outputs": [],
   "source": [
    "# combine to list in a dictionary we also combine multiple vale"
   ]
  },
  {
   "cell_type": "code",
   "execution_count": 59,
   "id": "ed478f34",
   "metadata": {},
   "outputs": [
    {
     "name": "stdout",
     "output_type": "stream",
     "text": [
      "{'name': 'ansh', 'age': 20}\n"
     ]
    }
   ],
   "source": [
    "a={\"name\":\"ansh\"}\n",
    "b={\"age\":20}\n",
    "a.update(b)\n",
    "print(a)"
   ]
  },
  {
   "cell_type": "code",
   "execution_count": null,
   "id": "cf740004",
   "metadata": {},
   "outputs": [],
   "source": []
  }
 ],
 "metadata": {
  "kernelspec": {
   "display_name": "Python 3 (ipykernel)",
   "language": "python",
   "name": "python3"
  },
  "language_info": {
   "codemirror_mode": {
    "name": "ipython",
    "version": 3
   },
   "file_extension": ".py",
   "mimetype": "text/x-python",
   "name": "python",
   "nbconvert_exporter": "python",
   "pygments_lexer": "ipython3",
   "version": "3.11.5"
  }
 },
 "nbformat": 4,
 "nbformat_minor": 5
}
